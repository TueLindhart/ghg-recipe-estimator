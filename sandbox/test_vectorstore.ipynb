{
 "cells": [
  {
   "cell_type": "code",
   "execution_count": 15,
   "metadata": {},
   "outputs": [
    {
     "data": {
      "text/plain": [
       "True"
      ]
     },
     "execution_count": 15,
     "metadata": {},
     "output_type": "execute_result"
    }
   ],
   "source": [
    "import os\n",
    "from dotenv import load_dotenv\n",
    "\n",
    "if os.getcwd().split(\"/\")[-1] == \"sandbox\":\n",
    "    os.chdir(\"../\")\n",
    "    \n",
    "load_dotenv()"
   ]
  },
  {
   "cell_type": "code",
   "execution_count": 16,
   "metadata": {},
   "outputs": [],
   "source": [
    "from food_co2_estimator.chains.recipe_extractor import get_recipe_extractor_chain\n",
    "from food_co2_estimator.utils.url import get_url_text\n",
    "recipe_extractor = get_recipe_extractor_chain(verbose=False)"
   ]
  },
  {
   "cell_type": "code",
   "execution_count": 18,
   "metadata": {},
   "outputs": [],
   "source": [
    "\n",
    "from food_co2_estimator.output_parsers.recipe_extractor import Recipe\n",
    "\n",
    "\n",
    "# url = \"https://www.valdemarsro.dk/frikadeller/\"\n",
    "url = \"https://www.valdemarsro.dk/red-thai-curry/\"\n",
    "text = get_url_text(url)\n",
    "recipe_extractor = get_recipe_extractor_chain(verbose=False)\n",
    "recipe: Recipe = recipe_extractor.invoke(input=text)"
   ]
  },
  {
   "cell_type": "code",
   "execution_count": 4,
   "metadata": {},
   "outputs": [],
   "source": []
  },
  {
   "cell_type": "code",
   "execution_count": 5,
   "metadata": {},
   "outputs": [],
   "source": [
    "# emission_chain = rag_co2_emission_chain(verbose=True)\n",
    "# translation_chain = get_translation_chain()\n",
    "\n",
    "# emission_chain_with_translation = translation_chain | emission_chain\n",
    "\n",
    "# emissions = emission_chain_with_translation.invoke(\n",
    "#     input={\"inputs\": recipe.ingredients, \"language\": \"da\"}\n",
    "# )"
   ]
  },
  {
   "cell_type": "code",
   "execution_count": 14,
   "metadata": {},
   "outputs": [
    {
     "data": {
      "text/plain": [
       "{'Eggs, chicken, free-range hens (indoor), raw': '1.0 kg CO2e / kg',\n",
       " 'Average chicken': '3.3 kg CO2e / kg',\n",
       " 'Noodles, eggs': '1.7 kg CO2e / kg',\n",
       " 'Egg salad': '1.5 kg CO2e / kg'}"
      ]
     },
     "execution_count": 14,
     "metadata": {},
     "output_type": "execute_result"
    }
   ],
   "source": [
    "from food_co2_estimator.retrievers.emission_retriever import get_emission_retriever_chain, remove_quantities_from_inputs\n",
    "\n",
    "retriever = get_emission_retriever_chain(k=10)\n",
    "cleaned = remove_quantities_from_inputs([\"1 kg eggs\"])\n",
    "retriever.invoke(cleaned[0])"
   ]
  },
  {
   "cell_type": "code",
   "execution_count": 13,
   "metadata": {},
   "outputs": [
    {
     "data": {
      "text/plain": [
       "['eggs']"
      ]
     },
     "execution_count": 13,
     "metadata": {},
     "output_type": "execute_result"
    }
   ],
   "source": [
    "cleaned"
   ]
  },
  {
   "cell_type": "code",
   "execution_count": 8,
   "metadata": {},
   "outputs": [
    {
     "data": {
      "text/plain": [
       "'basmati rice'"
      ]
     },
     "execution_count": 8,
     "metadata": {},
     "output_type": "execute_result"
    }
   ],
   "source": [
    "from food_co2_estimator.language.translator import MyTranslator\n",
    "\n",
    "\n",
    "translator = MyTranslator.default()\n",
    "translator.translate(\"basmati ri\")"
   ]
  },
  {
   "cell_type": "code",
   "execution_count": 9,
   "metadata": {},
   "outputs": [],
   "source": [
    "from food_co2_estimator.data.vector_store import get_vector_store\n",
    "\n",
    "\n",
    "vector_store = get_vector_store()"
   ]
  },
  {
   "cell_type": "code",
   "execution_count": 10,
   "metadata": {},
   "outputs": [
    {
     "data": {
      "text/plain": [
       "[Document(metadata={'DSK Kategori': 'Tilberedte/konserverede fødevarer', 'Detail': 0.0002392037588851976, 'Emballage': 0.2419647285623749, 'Energi (KJ/100 g)': 982.0, 'Fedt (g/100 g)': 22.0, 'Forarbejdning': 0.5753931404648314, 'ID_Ra': 'Ra00390', 'ID_food': 'Fa0191', 'ID_pack': 'Pa017', 'ID_retail': 'Ma0333', 'ILUC': 0.04472225069718327, 'Kategori': 'Smagsgivere og krydderier', 'Kulhydrat (g/100 g)': 3.7, 'Landbrug': 0.5147958677654496, 'Navn': 'Æggesalat', 'Produkt': 'Æggesalat', 'Protein (g/100 g)': 6.3, 'Total kg CO2e/kg': 1.50049349492172, 'Transport': 0.1233783036729955}, page_content='Egg salad'),\n",
       " Document(metadata={'DSK Kategori': 'Tilberedte/konserverede fødevarer', 'Detail': 0.00626463674608679, 'Emballage': 0.2330458035131551, 'Energi (KJ/100 g)': 1477.0, 'Fedt (g/100 g)': 2.1, 'Forarbejdning': 0.1661957753185934, 'ID_Ra': 'Ra00470', 'ID_food': 'Fa0007', 'ID_pack': 'Pa002', 'ID_retail': 'Ma0332', 'ILUC': 0.09065676623320963, 'Kategori': 'Korn og kornprodukter', 'Kulhydrat (g/100 g)': 68, 'Landbrug': 1.156374571599287, 'Navn': 'Nudler, æg', 'Produkt': 'Nudler, æg', 'Protein (g/100 g)': 14.3, 'Total kg CO2e/kg': 1.739730391342622, 'Transport': 0.0871928379322905}, page_content='Noodles, eggs'),\n",
       " Document(metadata={'Detail': 0.0002392037588851976, 'Emballage': 0.1403382123911285, 'Energi (KJ/100 g)': 840.0, 'Fedt (g/100 g)': 8.0, 'Forarbejdning': -0.01058759017248478, 'ID_Ra': 'Ra00502', 'ID_food': 'Fa0049', 'ID_pack': 'Pa059', 'ID_retail': 'Ma0333', 'ILUC': 0.1771101164398493, 'Kategori': 'Kød og fjerkræ', 'Kulhydrat (g/100 g)': 0, 'Landbrug': 2.712257838464505, 'Produkt': 'Kyllingekød, gennemsnitligt', 'Protein (g/100 g)': 27, 'Total kg CO2e/kg': 3.273596398429222, 'Transport': 0.254238617547339}, page_content='Average chicken'),\n",
       " Document(metadata={'Energi (KJ/100 g)': 1970.0, 'Fedt (g/100 g)': 26.0, 'ID_Ra': 'Ra00509', 'ID_food': 'Fa0462', 'ID_pack': 'Pa066', 'ID_retail': 'Ma0332', 'Kategori': 'Færdigretter', 'Kulhydrat (g/100 g)': 50, 'Produkt': ' Turrón med æggeblomme', 'Protein (g/100 g)': 9}, page_content='Turron, egg yolk')]"
      ]
     },
     "execution_count": 10,
     "metadata": {},
     "output_type": "execute_result"
    }
   ],
   "source": [
    "mmr_retriever = vector_store.as_retriever()\n",
    "mmr_retriever.invoke(\"1 egg\")"
   ]
  },
  {
   "cell_type": "code",
   "execution_count": null,
   "metadata": {},
   "outputs": [],
   "source": []
  }
 ],
 "metadata": {
  "kernelspec": {
   "display_name": ".venv",
   "language": "python",
   "name": "python3"
  },
  "language_info": {
   "codemirror_mode": {
    "name": "ipython",
    "version": 3
   },
   "file_extension": ".py",
   "mimetype": "text/x-python",
   "name": "python",
   "nbconvert_exporter": "python",
   "pygments_lexer": "ipython3",
   "version": "3.11.4"
  }
 },
 "nbformat": 4,
 "nbformat_minor": 2
}
