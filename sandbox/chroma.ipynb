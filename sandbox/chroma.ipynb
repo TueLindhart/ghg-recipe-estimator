{
 "cells": [
  {
   "cell_type": "code",
   "execution_count": 1,
   "metadata": {},
   "outputs": [
    {
     "data": {
      "text/plain": [
       "True"
      ]
     },
     "execution_count": 1,
     "metadata": {},
     "output_type": "execute_result"
    }
   ],
   "source": [
    "import os\n",
    "from dotenv import load_dotenv\n",
    "\n",
    "if os.getcwd().split(\"/\")[-1] == \"sandbox\":\n",
    "    os.chdir(\"../\")\n",
    "    \n",
    "    \n",
    "load_dotenv()"
   ]
  },
  {
   "cell_type": "code",
   "execution_count": 2,
   "metadata": {},
   "outputs": [],
   "source": [
    "# df_dk = pd.read_excel(\"food_co2_estimator/data/vector_db/DBv2.xlsx\",sheet_name=\"DK\")\n",
    "# df_gb = pd.read_excel(\"food_co2_estimator/data/vector_db/DBv2.xlsx\",sheet_name=\"GB\")"
   ]
  },
  {
   "cell_type": "code",
   "execution_count": 3,
   "metadata": {},
   "outputs": [],
   "source": [
    "# from langchain_chroma import Chroma\n",
    "# from langchain_openai import OpenAIEmbeddings\n",
    "\n",
    "# embeddings = OpenAIEmbeddings(model=\"text-embedding-3-large\")\n",
    "# vector_store = Chroma(\n",
    "#     collection_name=\"test_db\",\n",
    "#     embedding_function=embeddings,\n",
    "#     persist_directory=\"./sandbox/test_db\",  # Where to save data locally, remove if not neccesary\n",
    "# )"
   ]
  },
  {
   "cell_type": "code",
   "execution_count": 4,
   "metadata": {},
   "outputs": [],
   "source": [
    "# from typing import Any, Dict, List\n",
    "# from uuid import uuid4\n",
    "\n",
    "# from langchain_core.documents import Document\n",
    "\n",
    "# emission_records_dk: List[Dict[str, Any]] = df_dk.to_dict(orient=\"records\")\n",
    "# emission_records_gb: List[Dict[str, Any]] = df_gb.to_dict(orient=\"records\")\n",
    "\n",
    "# documents = []\n",
    "# uuids = []\n",
    "# for id, (emission_record_dk, emission_record_gb) in enumerate(zip(emission_records_dk,emission_records_gb), 1):\n",
    "    \n",
    "#     if \"Name\" in emission_record_gb:   \n",
    "#         documents.append(\n",
    "#             Document(\n",
    "#                 page_content=emission_record_gb[\"Name\"],\n",
    "#                 metadata=emission_record_dk,\n",
    "#                 id=id,\n",
    "#             )\n",
    "#         )\n",
    "#         uuids.append(str(uuid4()))\n",
    "    \n",
    "\n",
    "# vector_store.add_documents(documents)"
   ]
  },
  {
   "cell_type": "code",
   "execution_count": 5,
   "metadata": {},
   "outputs": [],
   "source": [
    "from food_co2_estimator.data.vector_store import get_vector_store\n",
    "\n",
    "\n",
    "vector_store = get_vector_store()"
   ]
  },
  {
   "cell_type": "code",
   "execution_count": 6,
   "metadata": {},
   "outputs": [
    {
     "name": "stdout",
     "output_type": "stream",
     "text": [
      "* Lasagne, vegetarian, ready meals =  1.530188183518141\n",
      "* Lasagne, beef, ready meals =  12.15720923746473\n",
      "* Lasagne, vegan, ready meals =  1.45641150135913\n",
      "* Pasta, raw =  2.052608339289675\n",
      "* Fresh pasta, fettucine spinach =  1.526357879263283\n"
     ]
    }
   ],
   "source": [
    "\n",
    "results = vector_store.similarity_search(query=\"lasagna sheets\",k=5)\n",
    "for res in results:\n",
    "    print(f\"* {res.page_content} =  {res.metadata['Total kg CO2e/kg']}\")"
   ]
  },
  {
   "cell_type": "code",
   "execution_count": 7,
   "metadata": {},
   "outputs": [
    {
     "data": {
      "text/plain": [
       "[[Document(metadata={'DSK Kategori': 'Grøntsager', 'Detail': 0.00626463674608679, 'Emballage': 0.2599925713297975, 'Energi (KJ/100 g)': 1187.0, 'Fedt (g/100 g)': 3.0, 'Forarbejdning': 8.881784197001252e-16, 'ID_Ra': 'Ra00005', 'ID_food': 'Fa0152', 'ID_pack': 'Pa066', 'ID_retail': 'Ma0332', 'ILUC': 0.0854828717229545, 'Kategori': 'Grøntsager og grøntsagsprodukter', 'Kulhydrat (g/100 g)': 43.5, 'Landbrug': 2.040736124100985, 'Navn': 'Tomat, soltørret', 'Produkt': 'Tomat, soltørret', 'Protein (g/100 g)': 14.1, 'Total kg CO2e/kg': 2.719357591199155, 'Transport': 0.3268813872993297}, page_content='Tomato, dried'),\n",
       "  Document(metadata={'DSK Kategori': 'Drikkevarer', 'Detail': 0.00626463674608679, 'Emballage': 0.2240555011602198, 'Energi (KJ/100 g)': 79.0, 'Fedt (g/100 g)': 0.1, 'Forarbejdning': 0.2040981936926205, 'ID_Ra': 'Ra00356', 'ID_food': 'Fa0123', 'ID_pack': 'Pa043', 'ID_retail': 'Ma0332', 'ILUC': 0.02087975329376196, 'Kategori': 'Drikkevarer', 'Kulhydrat (g/100 g)': 3.3, 'Landbrug': 0.2968343453237797, 'Navn': 'Tomatjuice, konserves', 'Produkt': 'Tomatjuice, dåse', 'Protein (g/100 g)': 0.8, 'Total kg CO2e/kg': 1.055055834035243, 'Transport': 0.3029234038187744}, page_content='Tomatojuice, canned'),\n",
       "  Document(metadata={'DSK Kategori': 'Frugt/grøntsagsprodukter', 'Detail': 0.00626463674608679, 'Emballage': 0.2240555011602198, 'Energi (KJ/100 g)': 90.0, 'Fedt (g/100 g)': 0.3, 'Forarbejdning': 0.2040981936926205, 'ID_Ra': 'Ra00361', 'ID_food': 'Fa0123', 'ID_pack': 'Pa043', 'ID_retail': 'Ma0332', 'ILUC': 0.02087975329376196, 'Kategori': 'Grøntsager og grøntsagsprodukter', 'Kulhydrat (g/100 g)': 3, 'Landbrug': 0.2968343453237797, 'Navn': 'Tomat, flået, konserves', 'Produkt': 'Tomat, flået, konserves', 'Protein (g/100 g)': 1.2, 'Total kg CO2e/kg': 1.055055834035243, 'Transport': 0.3029234038187744}, page_content='Tomato, peeled, canned'),\n",
       "  Document(metadata={'DSK Kategori': 'Grøntsager', 'Detail': 0.00626463674608679, 'Emballage': 0.1403382123911285, 'Energi (KJ/100 g)': 87.0, 'Fedt (g/100 g)': 0.1, 'Forarbejdning': 1.665334536937735e-16, 'ID_Ra': 'Ra00002', 'ID_food': 'Cm167', 'ID_pack': 'Pa059', 'ID_retail': 'Ma0332', 'ILUC': 0.01408819034947616, 'Kategori': 'Grøntsager og grøntsagsprodukter', 'Kulhydrat (g/100 g)': 3.2, 'Landbrug': 0.2142767957982354, 'Navn': 'Tomat, uspec., rå', 'Produkt': 'Tomat', 'Protein (g/100 g)': 0.8, 'Total kg CO2e/kg': 0.4847018275516332, 'Transport': 0.1097339922667062}, page_content='Tomato, ripe, raw, origin unknown')],\n",
       " [Document(metadata={'DSK Kategori': 'Frugt/grøntsagsprodukter', 'Detail': 0.0002392037588851976, 'Emballage': 0.2419647285623749, 'Energi (KJ/100 g)': 625.0, 'Fedt (g/100 g)': 10.0, 'Forarbejdning': 0.5274840342170057, 'ID_Ra': 'Ra00425', 'ID_food': 'Fa0243', 'ID_pack': 'Pa017', 'ID_retail': 'Ma0333', 'ILUC': 0.03235451540592529, 'Kategori': 'Grøntsager og grøntsagsprodukter', 'Kulhydrat (g/100 g)': 12, 'Landbrug': 0.3405169717429335, 'Navn': 'Kartoffelsalat', 'Produkt': 'Kartoffelsalat', 'Protein (g/100 g)': 2, 'Total kg CO2e/kg': 1.250054641634465, 'Transport': 0.1074951879473403}, page_content='Potato salad'),\n",
       "  Document(metadata={'DSK Kategori': 'Frugt/grøntsagsprodukter', 'Detail': 0.00626463674608679, 'Emballage': 0.2019185987442852, 'Energi (KJ/100 g)': 1455.0, 'Fedt (g/100 g)': 0.1, 'Forarbejdning': 0.1388740771025054, 'ID_Ra': 'Ra00371', 'ID_food': 'Fa0238', 'ID_pack': 'Pa018', 'ID_retail': 'Ma0332', 'ILUC': 0.07172232997002896, 'Kategori': 'Grøntsager og grøntsagsprodukter', 'Kulhydrat (g/100 g)': 85, 'Landbrug': 1.003889396920931, 'Navn': 'Kartoffelmel', 'Produkt': 'Kartoffelmel', 'Protein (g/100 g)': 0.2, 'Total kg CO2e/kg': 1.682227003085428, 'Transport': 0.2595579636015904}, page_content='Potato flour'),\n",
       "  Document(metadata={'DSK Kategori': 'Tilberedte/konserverede fødevarer', 'Detail': 0.00626463674608679, 'Emballage': 0.2599925713297975, 'Energi (KJ/100 g)': 2221.0, 'Fedt (g/100 g)': 31.9, 'Forarbejdning': 3.012797222614383, 'ID_Ra': 'Ra00364', 'ID_food': 'Fa0208', 'ID_pack': 'Pa066', 'ID_retail': 'Ma0332', 'ILUC': -0.01144907764976062, 'Kategori': 'Grøntsager og grøntsagsprodukter', 'Kulhydrat (g/100 g)': 44.9, 'Landbrug': 0.7682827017252025, 'Navn': 'Kartoffel, chips (franske kartofler)', 'Produkt': 'Kartoffel, chips (franske kartofler)', 'Protein (g/100 g)': 5.4, 'Total kg CO2e/kg': 4.244486653373832, 'Transport': 0.2085985986081221}, page_content='Potato crisps'),\n",
       "  Document(metadata={'DSK Kategori': 'Grøntsager', 'Detail': 0.00626463674608679, 'Emballage': 0.06470269241176488, 'Energi (KJ/100 g)': 326.0, 'Fedt (g/100 g)': 0.3, 'Forarbejdning': -5.551115123125783e-17, 'ID_Ra': 'Ra00256', 'ID_food': 'Cm132', 'ID_pack': 'Pa040', 'ID_retail': 'Ma0332', 'ILUC': 0.02331870188135532, 'Kategori': 'Grøntsager og grøntsagsprodukter', 'Kulhydrat (g/100 g)': 17.9, 'Landbrug': 0.2560942339084009, 'Navn': 'Kartoffel, uspec., rå', 'Produkt': 'Kartoffel', 'Protein (g/100 g)': 2, 'Total kg CO2e/kg': 0.4104409977604407, 'Transport': 0.06006073281283292}, page_content='Potato, raw')]]"
      ]
     },
     "execution_count": 7,
     "metadata": {},
     "output_type": "execute_result"
    }
   ],
   "source": [
    "retriever = vector_store.as_retriever(k=5)\n",
    "\n",
    "retriever.batch([\"tomat\",\"kartoffel\"])\n",
    "    \n",
    "     "
   ]
  },
  {
   "cell_type": "code",
   "execution_count": 8,
   "metadata": {},
   "outputs": [
    {
     "data": {
      "text/plain": [
       "{'tomat': {'Tomato, dried': '2.7 kg CO2e / kg',\n",
       "  'Tomatojuice, canned': '1.1 kg CO2e / kg',\n",
       "  'Tomato, peeled, canned': '1.1 kg CO2e / kg',\n",
       "  'Tomato, ripe, raw, origin unknown': '0.5 kg CO2e / kg'},\n",
       " 'agurk': {'Gherkin, pickled': '3.1 kg CO2e / kg',\n",
       "  'Gherkin cucumber, raw': '0.4 kg CO2e / kg',\n",
       "  'Cucumber, raw': '0.4 kg CO2e / kg',\n",
       "  'Cucumber, large, pickled': '3.1 kg CO2e / kg'}}"
      ]
     },
     "execution_count": 8,
     "metadata": {},
     "output_type": "execute_result"
    }
   ],
   "source": [
    "from typing import List\n",
    "from langchain_core.runnables import RunnablePassthrough\n",
    "from langchain_chroma.vectorstores import Document\n",
    "\n",
    "\n",
    "def parse_retriever_output(documents: List[Document]):\n",
    "    results = {}\n",
    "    for document in documents:\n",
    "        if \"Total kg CO2e/kg\" in document.metadata.keys():\n",
    "            emission = document.metadata['Total kg CO2e/kg']\n",
    "            emission_rounded = round(float(emission),1)\n",
    "            results[document.page_content] = f\"{emission_rounded} kg CO2e / kg\"\n",
    "    return results\n",
    "\n",
    "\n",
    "retriever_chain = retriever | parse_retriever_output\n",
    "\n",
    "\n",
    "def batch_retriever(inputs: List[str]):\n",
    "    return dict(zip(inputs,retriever_chain.batch(inputs)))\n",
    "\n",
    "\n",
    "\n",
    "batch_retriever([\"tomat\",\"agurk\"])\n",
    "\n",
    "\n"
   ]
  },
  {
   "cell_type": "code",
   "execution_count": 9,
   "metadata": {},
   "outputs": [],
   "source": [
    "from food_co2_estimator.chains.recipe_extractor import get_recipe_extractor_chain\n",
    "from food_co2_estimator.utils.url import get_url_text"
   ]
  },
  {
   "cell_type": "code",
   "execution_count": 10,
   "metadata": {},
   "outputs": [],
   "source": [
    "recipe_extractor = get_recipe_extractor_chain(verbose=False)"
   ]
  },
  {
   "cell_type": "code",
   "execution_count": 12,
   "metadata": {},
   "outputs": [
    {
     "data": {
      "text/plain": [
       "PromptTemplate(input_variables=['input'], input_types={}, partial_variables={'website_response': '\\n{\\n    \"ingredients\": [\\n        \"500 g torskefilet\",\\n        \"1 tsk havsalt\",\\n        \"2 æg\",\\n        \"1 gulerod, fintrevet\",\\n        \"0.5 dl fløde (13%)\",\\n        \"0.5 tsk revet muskatnød\",\\n        \"1 tsk peber\",\\n        \"2 spsk olie\",\\n        \"4 dl creme fraiche (18%)\",\\n        \"4 æggeblommer\",\\n        \"2 spsk frisk dild, hakket\",\\n        \"4 spsk frisk persille, hakket\"\\n    ],\\n    \"persons\": 4,\\n    \"instructions\": \"Forbered fiskefarsen ved at skære torskefileten i mindre stykker og blend den sammen med havsalt i en foodprocessor til en fin konsistens. \\n    Tilsæt de to hele æg, fintrevet gulerod, fløde, muskatnød og peber. Blend igen, indtil ingredienserne er godt blandet og konsistensen er jævn. \\n    Smag til med salt og peber efter behov. Forvarm ovnen til 180 grader. Smør en lille brødform eller ildfast fad med lidt olie og hæld fiskefarsen i formen. \\n    Glat overfladen ud. Bag terrinen i ovnen i cirka 25-30 minutter, eller indtil den er fast og let gylden på toppen. \\n    I en lille skål piskes creme fraiche sammen med æggeblommerne, hakket dild og persille. Smag til med salt og peber. \\n    Opvarm forsigtigt saucen i en lille gryde over lav varme, indtil den er varm, men undgå at koge den for at undgå at æggeblommerne skiller. \\n    Tag fisketerrinen ud af ovnen og lad den køle af i formen i et par minutter. Skær terrinen i skiver og anret på tallerkener. \\n    Hæld den cremede sauce over eller server den ved siden af.\"\\n}\\n', 'raw_text_response': '\\n{\\n    \"ingredients\": [\\n        \"1 tomat\",\\n        \"2 løg\",\\n        \"200 g laks\",\\n        \"0.5 l mælk\",\\n        \"200 g kartofler\"\\n    ],\\n    \"persons\": 2,\\n    \"instructions\": null\\n}\\n', 'no_recipe_response': '\\n{\\n    \"ingredients\": [],\\n    \"persons\": null,\\n    \"instructions\": null\\n}\\n'}, template='\\nAct as an expert in extracting recipes from text that understand danish and english.\\nGiven an unstructured raw text containing a recipe, extract the amount of each ingredient, the number of persons and the instructions.\\n\\nSometimes, there is no recipe to be found and then you return and empty ingredients list and null in persons and instructions fields.\\n\\nSometimes the ingredients list is already provided. In that case just output the input in the format described below\\nand give an estimate of number of persons and provide an null as instruction response.\\n\\nExample of ingredients already provided in Danish: oksemørbrad (250 g), 2 gulerødder\\nExample of ingredients already provided in English:\\n250 g cream\\n400 g beef tenderloin\\n\\nIt is very important that you extract the number of persons (antal personer) from the text. If not able, then\\ninstead estimate number of persons from ingredient list based on the amounts in the ingredients.\\n\\nThe input/text is delimited by ####.\\n\\nBegin!\\n\\n####\\ndansk hovedret 12 tilberedningstid 45 minutter arbejdstid 25 minutter print bedøm denne opskrift rated 4\\n/ 5 based on 1 customer reviews hov! du skal være logget ind. log ind bliv medlem ingredienser (12) 1 2 3 4 5 6 7 8\\nantal personer: 500 gram torskefilet 1 tsk havsalt 2 stk æg 1 stk gulerod 0.5 deciliter fløde 13% 0.5 tsk revet\\nmuskatnød 1 tsk peber 2 spsk olie 4 deciliter creme fraiche 18% 4 stk æggeblomme 2 spsk frisk dild 4 spsk frisk persille\\nForbered fiskefarsen ved at skære torskefileten i mindre stykker og blend den sammen med havsalt i en foodprocessor til en fin konsistens. Tilsæt de to hele æg, fintrevet gulerod, fløde, muskatnød og peber. Blend igen, indtil ingredienserne er godt blandet og konsistensen er jævn. Smag til med salt og peber efter behov\\nForvarm ovnen til 180 grader. Smør en lille brødform eller ildfast fad med lidt olie og hæld fiskefarsen i formen. Glat overfladen ud. Bag terrinen i ovnen i cirka 25-30 minutter, eller indtil den er fast og let gylden på toppen\\nI en lille skål piskes creme fraiche sammen med æggeblommerne, hakket dild og persille. Smag til med salt og peber. Opvarm forsigtigt saucen i en lille gryde over lav varme, indtil den er varm, men undgå at koge den for at undgå at æggeblommerne skiller\\nTag fisketerrinen ud af ovnen og lad den køle af i formen i et par minutter. Skær terrinen i skiver og anret på tallerkener. Hæld den cremede sauce over eller server den ved siden af\\n####\\n{website_response}\\n####\\n1 tomat2 løg200 g laks0.5 l mælk200 g kartofler\\n####\\n{raw_text_response}\\n####\\nDet er dejligt vejr i dag. Jeg tror jeg vil gå en tur.\\n####\\n{no_recipe_response}\\n####\\n{input}\\n####\\n')\n",
       "| RunnableBinding(bound=ChatOpenAI(client=<openai.resources.chat.completions.Completions object at 0x15a38de10>, async_client=<openai.resources.chat.completions.AsyncCompletions object at 0x15a38e090>, root_client=<openai.OpenAI object at 0x15caaef50>, root_async_client=<openai.AsyncOpenAI object at 0x15a38cc90>, model_name='gpt-4o-mini', temperature=0.0, model_kwargs={}, openai_api_key=SecretStr('**********')), kwargs={'tools': [{'type': 'function', 'function': {'name': 'Recipe', 'description': 'Class containing recipe information', 'parameters': {'properties': {'ingredients': {'description': 'This field should contain a list of ingredients in the recipe', 'items': {'type': 'string'}, 'type': 'array'}, 'persons': {'anyOf': [{'type': 'integer'}, {'type': 'null'}], 'description': 'This field should contain number of persons recipe if for.'}, 'instructions': {'anyOf': [{'type': 'string'}, {'type': 'null'}], 'description': 'This field should contain instructions for recipe.'}}, 'required': ['ingredients', 'persons', 'instructions'], 'type': 'object'}}}], 'parallel_tool_calls': False, 'tool_choice': {'type': 'function', 'function': {'name': 'Recipe'}}}, config={}, config_factories=[])\n",
       "| PydanticToolsParser(first_tool_only=True, tools=[<class 'food_co2_estimator.output_parsers.recipe_extractor.Recipe'>])\n",
       "| PydanticOutputParser(pydantic_object=<class 'food_co2_estimator.output_parsers.recipe_extractor.Recipe'>)"
      ]
     },
     "execution_count": 12,
     "metadata": {},
     "output_type": "execute_result"
    }
   ],
   "source": [
    "recipe_extractor"
   ]
  },
  {
   "cell_type": "code",
   "execution_count": 13,
   "metadata": {},
   "outputs": [],
   "source": [
    "url = \"https://www.valdemarsro.dk/frikadeller/\"\n",
    "# text = get_full_url_text(url)"
   ]
  },
  {
   "cell_type": "code",
   "execution_count": 14,
   "metadata": {},
   "outputs": [
    {
     "ename": "ValidationError",
     "evalue": "1 validation error for Generation\ntext\n  Input should be a valid string [type=string_type, input_value=Recipe(ingredients=['500 ...il de er gennemstegte.'), input_type=Recipe]\n    For further information visit https://errors.pydantic.dev/2.9/v/string_type",
     "output_type": "error",
     "traceback": [
      "\u001b[0;31m---------------------------------------------------------------------------\u001b[0m",
      "\u001b[0;31mValidationError\u001b[0m                           Traceback (most recent call last)",
      "Cell \u001b[0;32mIn[14], line 2\u001b[0m\n\u001b[1;32m      1\u001b[0m text \u001b[38;5;241m=\u001b[39m get_url_text(url)\n\u001b[0;32m----> 2\u001b[0m output \u001b[38;5;241m=\u001b[39m \u001b[43mrecipe_extractor\u001b[49m\u001b[38;5;241;43m.\u001b[39;49m\u001b[43minvoke\u001b[49m\u001b[43m(\u001b[49m\u001b[38;5;28;43minput\u001b[39;49m\u001b[38;5;241;43m=\u001b[39;49m\u001b[43mtext\u001b[49m\u001b[43m)\u001b[49m\n",
      "File \u001b[0;32m~/projects/ghg-recipe-estimator/.venv/lib/python3.11/site-packages/langchain_core/runnables/base.py:3024\u001b[0m, in \u001b[0;36mRunnableSequence.invoke\u001b[0;34m(self, input, config, **kwargs)\u001b[0m\n\u001b[1;32m   3022\u001b[0m             \u001b[38;5;28minput\u001b[39m \u001b[38;5;241m=\u001b[39m context\u001b[38;5;241m.\u001b[39mrun(step\u001b[38;5;241m.\u001b[39minvoke, \u001b[38;5;28minput\u001b[39m, config, \u001b[38;5;241m*\u001b[39m\u001b[38;5;241m*\u001b[39mkwargs)\n\u001b[1;32m   3023\u001b[0m         \u001b[38;5;28;01melse\u001b[39;00m:\n\u001b[0;32m-> 3024\u001b[0m             \u001b[38;5;28minput\u001b[39m \u001b[38;5;241m=\u001b[39m \u001b[43mcontext\u001b[49m\u001b[38;5;241;43m.\u001b[39;49m\u001b[43mrun\u001b[49m\u001b[43m(\u001b[49m\u001b[43mstep\u001b[49m\u001b[38;5;241;43m.\u001b[39;49m\u001b[43minvoke\u001b[49m\u001b[43m,\u001b[49m\u001b[43m \u001b[49m\u001b[38;5;28;43minput\u001b[39;49m\u001b[43m,\u001b[49m\u001b[43m \u001b[49m\u001b[43mconfig\u001b[49m\u001b[43m)\u001b[49m\n\u001b[1;32m   3025\u001b[0m \u001b[38;5;66;03m# finish the root run\u001b[39;00m\n\u001b[1;32m   3026\u001b[0m \u001b[38;5;28;01mexcept\u001b[39;00m \u001b[38;5;167;01mBaseException\u001b[39;00m \u001b[38;5;28;01mas\u001b[39;00m e:\n",
      "File \u001b[0;32m~/projects/ghg-recipe-estimator/.venv/lib/python3.11/site-packages/langchain_core/output_parsers/base.py:202\u001b[0m, in \u001b[0;36mBaseOutputParser.invoke\u001b[0;34m(self, input, config, **kwargs)\u001b[0m\n\u001b[1;32m    193\u001b[0m     \u001b[38;5;28;01mreturn\u001b[39;00m \u001b[38;5;28mself\u001b[39m\u001b[38;5;241m.\u001b[39m_call_with_config(\n\u001b[1;32m    194\u001b[0m         \u001b[38;5;28;01mlambda\u001b[39;00m inner_input: \u001b[38;5;28mself\u001b[39m\u001b[38;5;241m.\u001b[39mparse_result(\n\u001b[1;32m    195\u001b[0m             [ChatGeneration(message\u001b[38;5;241m=\u001b[39minner_input)]\n\u001b[0;32m   (...)\u001b[0m\n\u001b[1;32m    199\u001b[0m         run_type\u001b[38;5;241m=\u001b[39m\u001b[38;5;124m\"\u001b[39m\u001b[38;5;124mparser\u001b[39m\u001b[38;5;124m\"\u001b[39m,\n\u001b[1;32m    200\u001b[0m     )\n\u001b[1;32m    201\u001b[0m \u001b[38;5;28;01melse\u001b[39;00m:\n\u001b[0;32m--> 202\u001b[0m     \u001b[38;5;28;01mreturn\u001b[39;00m \u001b[38;5;28;43mself\u001b[39;49m\u001b[38;5;241;43m.\u001b[39;49m\u001b[43m_call_with_config\u001b[49m\u001b[43m(\u001b[49m\n\u001b[1;32m    203\u001b[0m \u001b[43m        \u001b[49m\u001b[38;5;28;43;01mlambda\u001b[39;49;00m\u001b[43m \u001b[49m\u001b[43minner_input\u001b[49m\u001b[43m:\u001b[49m\u001b[43m \u001b[49m\u001b[38;5;28;43mself\u001b[39;49m\u001b[38;5;241;43m.\u001b[39;49m\u001b[43mparse_result\u001b[49m\u001b[43m(\u001b[49m\u001b[43m[\u001b[49m\u001b[43mGeneration\u001b[49m\u001b[43m(\u001b[49m\u001b[43mtext\u001b[49m\u001b[38;5;241;43m=\u001b[39;49m\u001b[43minner_input\u001b[49m\u001b[43m)\u001b[49m\u001b[43m]\u001b[49m\u001b[43m)\u001b[49m\u001b[43m,\u001b[49m\n\u001b[1;32m    204\u001b[0m \u001b[43m        \u001b[49m\u001b[38;5;28;43minput\u001b[39;49m\u001b[43m,\u001b[49m\n\u001b[1;32m    205\u001b[0m \u001b[43m        \u001b[49m\u001b[43mconfig\u001b[49m\u001b[43m,\u001b[49m\n\u001b[1;32m    206\u001b[0m \u001b[43m        \u001b[49m\u001b[43mrun_type\u001b[49m\u001b[38;5;241;43m=\u001b[39;49m\u001b[38;5;124;43m\"\u001b[39;49m\u001b[38;5;124;43mparser\u001b[39;49m\u001b[38;5;124;43m\"\u001b[39;49m\u001b[43m,\u001b[49m\n\u001b[1;32m    207\u001b[0m \u001b[43m    \u001b[49m\u001b[43m)\u001b[49m\n",
      "File \u001b[0;32m~/projects/ghg-recipe-estimator/.venv/lib/python3.11/site-packages/langchain_core/runnables/base.py:1927\u001b[0m, in \u001b[0;36mRunnable._call_with_config\u001b[0;34m(self, func, input, config, run_type, serialized, **kwargs)\u001b[0m\n\u001b[1;32m   1923\u001b[0m     context \u001b[38;5;241m=\u001b[39m copy_context()\n\u001b[1;32m   1924\u001b[0m     context\u001b[38;5;241m.\u001b[39mrun(_set_config_context, child_config)\n\u001b[1;32m   1925\u001b[0m     output \u001b[38;5;241m=\u001b[39m cast(\n\u001b[1;32m   1926\u001b[0m         Output,\n\u001b[0;32m-> 1927\u001b[0m         \u001b[43mcontext\u001b[49m\u001b[38;5;241;43m.\u001b[39;49m\u001b[43mrun\u001b[49m\u001b[43m(\u001b[49m\n\u001b[1;32m   1928\u001b[0m \u001b[43m            \u001b[49m\u001b[43mcall_func_with_variable_args\u001b[49m\u001b[43m,\u001b[49m\u001b[43m  \u001b[49m\u001b[38;5;66;43;03m# type: ignore[arg-type]\u001b[39;49;00m\n\u001b[1;32m   1929\u001b[0m \u001b[43m            \u001b[49m\u001b[43mfunc\u001b[49m\u001b[43m,\u001b[49m\u001b[43m  \u001b[49m\u001b[38;5;66;43;03m# type: ignore[arg-type]\u001b[39;49;00m\n\u001b[1;32m   1930\u001b[0m \u001b[43m            \u001b[49m\u001b[38;5;28;43minput\u001b[39;49m\u001b[43m,\u001b[49m\u001b[43m  \u001b[49m\u001b[38;5;66;43;03m# type: ignore[arg-type]\u001b[39;49;00m\n\u001b[1;32m   1931\u001b[0m \u001b[43m            \u001b[49m\u001b[43mconfig\u001b[49m\u001b[43m,\u001b[49m\n\u001b[1;32m   1932\u001b[0m \u001b[43m            \u001b[49m\u001b[43mrun_manager\u001b[49m\u001b[43m,\u001b[49m\n\u001b[1;32m   1933\u001b[0m \u001b[43m            \u001b[49m\u001b[38;5;241;43m*\u001b[39;49m\u001b[38;5;241;43m*\u001b[39;49m\u001b[43mkwargs\u001b[49m\u001b[43m,\u001b[49m\n\u001b[1;32m   1934\u001b[0m \u001b[43m        \u001b[49m\u001b[43m)\u001b[49m,\n\u001b[1;32m   1935\u001b[0m     )\n\u001b[1;32m   1936\u001b[0m \u001b[38;5;28;01mexcept\u001b[39;00m \u001b[38;5;167;01mBaseException\u001b[39;00m \u001b[38;5;28;01mas\u001b[39;00m e:\n\u001b[1;32m   1937\u001b[0m     run_manager\u001b[38;5;241m.\u001b[39mon_chain_error(e)\n",
      "File \u001b[0;32m~/projects/ghg-recipe-estimator/.venv/lib/python3.11/site-packages/langchain_core/runnables/config.py:396\u001b[0m, in \u001b[0;36mcall_func_with_variable_args\u001b[0;34m(func, input, config, run_manager, **kwargs)\u001b[0m\n\u001b[1;32m    394\u001b[0m \u001b[38;5;28;01mif\u001b[39;00m run_manager \u001b[38;5;129;01mis\u001b[39;00m \u001b[38;5;129;01mnot\u001b[39;00m \u001b[38;5;28;01mNone\u001b[39;00m \u001b[38;5;129;01mand\u001b[39;00m accepts_run_manager(func):\n\u001b[1;32m    395\u001b[0m     kwargs[\u001b[38;5;124m\"\u001b[39m\u001b[38;5;124mrun_manager\u001b[39m\u001b[38;5;124m\"\u001b[39m] \u001b[38;5;241m=\u001b[39m run_manager\n\u001b[0;32m--> 396\u001b[0m \u001b[38;5;28;01mreturn\u001b[39;00m \u001b[43mfunc\u001b[49m\u001b[43m(\u001b[49m\u001b[38;5;28;43minput\u001b[39;49m\u001b[43m,\u001b[49m\u001b[43m \u001b[49m\u001b[38;5;241;43m*\u001b[39;49m\u001b[38;5;241;43m*\u001b[39;49m\u001b[43mkwargs\u001b[49m\u001b[43m)\u001b[49m\n",
      "File \u001b[0;32m~/projects/ghg-recipe-estimator/.venv/lib/python3.11/site-packages/langchain_core/output_parsers/base.py:203\u001b[0m, in \u001b[0;36mBaseOutputParser.invoke.<locals>.<lambda>\u001b[0;34m(inner_input)\u001b[0m\n\u001b[1;32m    193\u001b[0m     \u001b[38;5;28;01mreturn\u001b[39;00m \u001b[38;5;28mself\u001b[39m\u001b[38;5;241m.\u001b[39m_call_with_config(\n\u001b[1;32m    194\u001b[0m         \u001b[38;5;28;01mlambda\u001b[39;00m inner_input: \u001b[38;5;28mself\u001b[39m\u001b[38;5;241m.\u001b[39mparse_result(\n\u001b[1;32m    195\u001b[0m             [ChatGeneration(message\u001b[38;5;241m=\u001b[39minner_input)]\n\u001b[0;32m   (...)\u001b[0m\n\u001b[1;32m    199\u001b[0m         run_type\u001b[38;5;241m=\u001b[39m\u001b[38;5;124m\"\u001b[39m\u001b[38;5;124mparser\u001b[39m\u001b[38;5;124m\"\u001b[39m,\n\u001b[1;32m    200\u001b[0m     )\n\u001b[1;32m    201\u001b[0m \u001b[38;5;28;01melse\u001b[39;00m:\n\u001b[1;32m    202\u001b[0m     \u001b[38;5;28;01mreturn\u001b[39;00m \u001b[38;5;28mself\u001b[39m\u001b[38;5;241m.\u001b[39m_call_with_config(\n\u001b[0;32m--> 203\u001b[0m         \u001b[38;5;28;01mlambda\u001b[39;00m inner_input: \u001b[38;5;28mself\u001b[39m\u001b[38;5;241m.\u001b[39mparse_result([\u001b[43mGeneration\u001b[49m\u001b[43m(\u001b[49m\u001b[43mtext\u001b[49m\u001b[38;5;241;43m=\u001b[39;49m\u001b[43minner_input\u001b[49m\u001b[43m)\u001b[49m]),\n\u001b[1;32m    204\u001b[0m         \u001b[38;5;28minput\u001b[39m,\n\u001b[1;32m    205\u001b[0m         config,\n\u001b[1;32m    206\u001b[0m         run_type\u001b[38;5;241m=\u001b[39m\u001b[38;5;124m\"\u001b[39m\u001b[38;5;124mparser\u001b[39m\u001b[38;5;124m\"\u001b[39m,\n\u001b[1;32m    207\u001b[0m     )\n",
      "File \u001b[0;32m~/projects/ghg-recipe-estimator/.venv/lib/python3.11/site-packages/langchain_core/load/serializable.py:111\u001b[0m, in \u001b[0;36mSerializable.__init__\u001b[0;34m(self, *args, **kwargs)\u001b[0m\n\u001b[1;32m    109\u001b[0m \u001b[38;5;28;01mdef\u001b[39;00m \u001b[38;5;21m__init__\u001b[39m(\u001b[38;5;28mself\u001b[39m, \u001b[38;5;241m*\u001b[39margs: Any, \u001b[38;5;241m*\u001b[39m\u001b[38;5;241m*\u001b[39mkwargs: Any) \u001b[38;5;241m-\u001b[39m\u001b[38;5;241m>\u001b[39m \u001b[38;5;28;01mNone\u001b[39;00m:\n\u001b[1;32m    110\u001b[0m \u001b[38;5;250m    \u001b[39m\u001b[38;5;124;03m\"\"\"\"\"\"\u001b[39;00m\n\u001b[0;32m--> 111\u001b[0m     \u001b[38;5;28;43msuper\u001b[39;49m\u001b[43m(\u001b[49m\u001b[43m)\u001b[49m\u001b[38;5;241;43m.\u001b[39;49m\u001b[38;5;21;43m__init__\u001b[39;49m\u001b[43m(\u001b[49m\u001b[38;5;241;43m*\u001b[39;49m\u001b[43margs\u001b[49m\u001b[43m,\u001b[49m\u001b[43m \u001b[49m\u001b[38;5;241;43m*\u001b[39;49m\u001b[38;5;241;43m*\u001b[39;49m\u001b[43mkwargs\u001b[49m\u001b[43m)\u001b[49m\n",
      "File \u001b[0;32m~/projects/ghg-recipe-estimator/.venv/lib/python3.11/site-packages/pydantic/main.py:212\u001b[0m, in \u001b[0;36mBaseModel.__init__\u001b[0;34m(self, **data)\u001b[0m\n\u001b[1;32m    210\u001b[0m \u001b[38;5;66;03m# `__tracebackhide__` tells pytest and some other tools to omit this function from tracebacks\u001b[39;00m\n\u001b[1;32m    211\u001b[0m __tracebackhide__ \u001b[38;5;241m=\u001b[39m \u001b[38;5;28;01mTrue\u001b[39;00m\n\u001b[0;32m--> 212\u001b[0m validated_self \u001b[38;5;241m=\u001b[39m \u001b[38;5;28;43mself\u001b[39;49m\u001b[38;5;241;43m.\u001b[39;49m\u001b[43m__pydantic_validator__\u001b[49m\u001b[38;5;241;43m.\u001b[39;49m\u001b[43mvalidate_python\u001b[49m\u001b[43m(\u001b[49m\u001b[43mdata\u001b[49m\u001b[43m,\u001b[49m\u001b[43m \u001b[49m\u001b[43mself_instance\u001b[49m\u001b[38;5;241;43m=\u001b[39;49m\u001b[38;5;28;43mself\u001b[39;49m\u001b[43m)\u001b[49m\n\u001b[1;32m    213\u001b[0m \u001b[38;5;28;01mif\u001b[39;00m \u001b[38;5;28mself\u001b[39m \u001b[38;5;129;01mis\u001b[39;00m \u001b[38;5;129;01mnot\u001b[39;00m validated_self:\n\u001b[1;32m    214\u001b[0m     warnings\u001b[38;5;241m.\u001b[39mwarn(\n\u001b[1;32m    215\u001b[0m         \u001b[38;5;124m'\u001b[39m\u001b[38;5;124mA custom validator is returning a value other than `self`.\u001b[39m\u001b[38;5;130;01m\\n\u001b[39;00m\u001b[38;5;124m'\u001b[39m\n\u001b[1;32m    216\u001b[0m         \u001b[38;5;124m\"\u001b[39m\u001b[38;5;124mReturning anything other than `self` from a top level model validator isn\u001b[39m\u001b[38;5;124m'\u001b[39m\u001b[38;5;124mt supported when validating via `__init__`.\u001b[39m\u001b[38;5;130;01m\\n\u001b[39;00m\u001b[38;5;124m\"\u001b[39m\n\u001b[1;32m    217\u001b[0m         \u001b[38;5;124m'\u001b[39m\u001b[38;5;124mSee the `model_validator` docs (https://docs.pydantic.dev/latest/concepts/validators/#model-validators) for more details.\u001b[39m\u001b[38;5;124m'\u001b[39m,\n\u001b[1;32m    218\u001b[0m         category\u001b[38;5;241m=\u001b[39m\u001b[38;5;28;01mNone\u001b[39;00m,\n\u001b[1;32m    219\u001b[0m     )\n",
      "\u001b[0;31mValidationError\u001b[0m: 1 validation error for Generation\ntext\n  Input should be a valid string [type=string_type, input_value=Recipe(ingredients=['500 ...il de er gennemstegte.'), input_type=Recipe]\n    For further information visit https://errors.pydantic.dev/2.9/v/string_type"
     ]
    }
   ],
   "source": [
    "text = get_url_text(url)\n",
    "output = recipe_extractor.invoke(input=text)"
   ]
  },
  {
   "cell_type": "code",
   "execution_count": null,
   "metadata": {},
   "outputs": [],
   "source": [
    "output"
   ]
  },
  {
   "cell_type": "code",
   "execution_count": 19,
   "metadata": {},
   "outputs": [],
   "source": [
    "from typing import Dict\n",
    "\n",
    "from food_co2_estimator.output_parsers.recipe_extractor import Recipe\n",
    "\n",
    "\n",
    "def parse_recipe_output(output: Recipe) -> List[str]:\n",
    "    return output.ingredients"
   ]
  },
  {
   "cell_type": "code",
   "execution_count": 20,
   "metadata": {},
   "outputs": [],
   "source": [
    "from operator import itemgetter\n",
    "from langchain_core.runnables import RunnableLambda\n",
    "extractor_chain = get_url_text | recipe_extractor | parse_recipe_output"
   ]
  },
  {
   "cell_type": "code",
   "execution_count": null,
   "metadata": {},
   "outputs": [],
   "source": [
    "extractor_chain.invoke(url)"
   ]
  },
  {
   "cell_type": "code",
   "execution_count": 28,
   "metadata": {},
   "outputs": [],
   "source": [
    "from langchain_core.prompts import ChatPromptTemplate\n",
    "from langchain_openai import ChatOpenAI\n",
    "\n",
    "from food_co2_estimator.output_parsers.sql_co2_estimator import CO2Emissions\n",
    "\n",
    "message = \"\"\"\n",
    "Given this list of ingredients, return the emissions in kg / Co2e kg provided the best matching emission option. \n",
    "{ingredients}\n",
    "\n",
    "Ingredients emission options:\n",
    "{context}\n",
    "\"\"\"\n",
    "\n",
    "prompt = ChatPromptTemplate.from_messages([(\"human\", message)])\n",
    "\n",
    "llm = ChatOpenAI(model=\"gpt-4o-mini\", temperature=0,verbose=True)\n",
    "\n",
    "structured_llm = llm.with_structured_output(CO2Emissions)\n",
    "\n",
    "rag_chain = {\"context\": batch_retriever, \"ingredients\": RunnablePassthrough()} | prompt | structured_llm"
   ]
  },
  {
   "cell_type": "code",
   "execution_count": 34,
   "metadata": {},
   "outputs": [],
   "source": [
    "output = await rag_chain.ainvoke([\"tomat\",\"kartoffel\"])"
   ]
  },
  {
   "cell_type": "code",
   "execution_count": null,
   "metadata": {},
   "outputs": [],
   "source": [
    "output"
   ]
  },
  {
   "cell_type": "code",
   "execution_count": null,
   "metadata": {},
   "outputs": [],
   "source": [
    "from translate import Translator\n",
    "\n",
    "\n",
    "translator = Translator(to_lang=\"en\", from_lang=\"da\")\n",
    "\n",
    "def _translate_if_danish(inputs:List[str],language: str):\n",
    "    if language == \"en\":\n",
    "        return inputs\n",
    "    \n",
    "    inputs_str = \", \".join(inputs)\n",
    "    translations = translator.translate(inputs_str)\n",
    "    return translations.split(\", \")\n",
    "\n",
    "def translate_if_danish(_dict: Dict[str,str]):\n",
    "    return _translate_if_danish(inputs=_dict[\"inputs\"],language=_dict[\"language\"])\n",
    "\n",
    " \n",
    "_translate_if_danish([\"tomat\",\"kartoffel\"],language=\"da\")\n"
   ]
  },
  {
   "cell_type": "code",
   "execution_count": 39,
   "metadata": {},
   "outputs": [],
   "source": [
    "\n",
    "translation_chain = {\"inputs\": itemgetter(\"inputs\"), \"language\": itemgetter(\"language\")} | RunnableLambda(translate_if_danish) | rag_chain"
   ]
  },
  {
   "cell_type": "code",
   "execution_count": null,
   "metadata": {},
   "outputs": [],
   "source": [
    "# translation_chain = {\"inputs\": itemgetter(\"inputs\"), \"language\": itemgetter(\"language\")} | RunnableLambda(translate_if_danish)\n",
    "\n",
    "translation_chain.invoke(input={\"inputs\":[\"tomat\",\"kartoffel\"],\"language\":\"da\"})"
   ]
  },
  {
   "cell_type": "code",
   "execution_count": null,
   "metadata": {},
   "outputs": [],
   "source": [
    "output = translation_chain.invoke({\"inputs\":[\"tomat\",\"kartoffel\"],\"language\":\"da\"})"
   ]
  },
  {
   "cell_type": "code",
   "execution_count": null,
   "metadata": {},
   "outputs": [],
   "source": [
    "print(output.emissions[0])"
   ]
  },
  {
   "cell_type": "code",
   "execution_count": null,
   "metadata": {},
   "outputs": [],
   "source": []
  }
 ],
 "metadata": {
  "kernelspec": {
   "display_name": ".venv",
   "language": "python",
   "name": "python3"
  },
  "language_info": {
   "codemirror_mode": {
    "name": "ipython",
    "version": 3
   },
   "file_extension": ".py",
   "mimetype": "text/x-python",
   "name": "python",
   "nbconvert_exporter": "python",
   "pygments_lexer": "ipython3",
   "version": "3.11.4"
  }
 },
 "nbformat": 4,
 "nbformat_minor": 2
}
