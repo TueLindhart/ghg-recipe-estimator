{
 "cells": [
  {
   "cell_type": "code",
   "execution_count": 2,
   "metadata": {},
   "outputs": [
    {
     "data": {
      "text/plain": [
       "True"
      ]
     },
     "execution_count": 2,
     "metadata": {},
     "output_type": "execute_result"
    }
   ],
   "source": [
    "import os\n",
    "from dotenv import load_dotenv\n",
    "\n",
    "if os.getcwd().endswith(\"/sandbox\"):\n",
    "    os.chdir('..')\n",
    "\n",
    "load_dotenv()"
   ]
  },
  {
   "cell_type": "code",
   "execution_count": 3,
   "metadata": {},
   "outputs": [],
   "source": [
    "from google.cloud import storage\n",
    "\n",
    "# Set your bucket name either via environment variable or hard-coded.\n",
    "BUCKET_NAME = os.environ.get(\"GCS_BUCKET\", \"test-caching\")\n",
    "storage_client = storage.Client()\n",
    "bucket = storage_client.bucket(BUCKET_NAME)\n"
   ]
  },
  {
   "cell_type": "code",
   "execution_count": null,
   "metadata": {},
   "outputs": [],
   "source": [
    "import os\n",
    "import json\n",
    "import datetime\n",
    "import urllib.parse\n",
    "from google.cloud import storage\n",
    "\n",
    "# Define cache expiration period (30 days)\n",
    "\n",
    "def url_to_key(url: str) -> str:\n",
    "    \"\"\"URL-encode the URL for safe blob naming.\"\"\"\n",
    "    return urllib.parse.quote(url, safe='')\n",
    "\n",
    "def store_cache(url: str, json_output: dict) -> None:\n",
    "    \"\"\"\n",
    "    Stores a cache entry in GCS.\n",
    "    The blob name is: <encoded_url>/<epoch_timestamp>\n",
    "    \"\"\"\n",
    "    now = datetime.datetime.now(datetime.timezone.utc)\n",
    "    epoch_ts = int(now.timestamp())\n",
    "    # Create a blob name that groups entries by URL and sorts by time.\n",
    "    blob_key = f\"{url_to_key(url)}/{epoch_ts}\"\n",
    "    \n",
    "    data = {\n",
    "        \"input\": url,\n",
    "        \"output\": json_output,\n",
    "        \"timestamp\": now.isoformat()\n",
    "    }\n",
    "    \n",
    "    blob = bucket.blob(blob_key)\n",
    "    blob.upload_from_string(\n",
    "        json.dumps(data),\n",
    "        content_type=\"application/json\"\n",
    "    )\n",
    "    print(f\"Stored cache for URL: {url} in blob: {blob_key}\")\n",
    "\n",
    "def get_cache(url: str) -> dict:\n",
    "    \"\"\"\n",
    "    Retrieves the most recent fresh cache entry for the given URL.\n",
    "    Iterates through the blobs sorted by timestamp (newest first).\n",
    "    \"\"\"\n",
    "    prefix = f\"{url_to_key(url)}/\"\n",
    "    blobs = list(bucket.list_blobs(prefix=prefix))\n",
    "    \n",
    "    if not blobs:\n",
    "        print(f\"No cache entries found for URL: {url}\")\n",
    "        return None\n",
    "    \n",
    "    # Sort blobs by the timestamp in the blob name (newest first)\n",
    "    def get_epoch(blob):\n",
    "        try:\n",
    "            return int(blob.name.split('/')[-1])\n",
    "        except ValueError:\n",
    "            return 0\n",
    "\n",
    "    sorted_blobs = sorted(blobs, key=get_epoch, reverse=True)\n",
    "    \n",
    "    for blob in sorted_blobs:\n",
    "        try:\n",
    "            data_str = blob.download_as_string().decode(\"utf-8\")\n",
    "            data = json.loads(data_str)\n",
    "        except Exception as e:\n",
    "            print(f\"Error reading blob {blob.name}: {e}\")\n",
    "            continue\n",
    "        \n",
    "        timestamp_str = data.get(\"timestamp\")\n",
    "        if not timestamp_str:\n",
    "            continue\n",
    "        \n",
    "        try:\n",
    "            cached_time = datetime.datetime.fromisoformat(timestamp_str)\n",
    "        except ValueError:\n",
    "            continue\n",
    "        \n",
    "        age = datetime.datetime.now(datetime.timezone.utc) - cached_time\n",
    "        if age <= datetime.timedelta(days=CACHE_EXPIRATION_DAYS):\n",
    "            print(f\"Cache hit for URL: {url} using blob {blob.name} (age: {age.days} days)\")\n",
    "            return data\n",
    "        else:\n",
    "            print(f\"Blob {blob.name} for URL: {url} is expired (age: {age.days} days)\")\n",
    "    \n",
    "    return None\n",
    "\n"
   ]
  },
  {
   "cell_type": "code",
   "execution_count": 5,
   "metadata": {},
   "outputs": [
    {
     "name": "stderr",
     "output_type": "stream",
     "text": [
      "/Users/tuethomsen/projects/ghg-recipe-estimator/.venv/lib/python3.13/site-packages/google_crc32c/__init__.py:29: RuntimeWarning: As the c extension couldn't be imported, `google-crc32c` is using a pure python implementation that is significantly slower. If possible, please configure a c build environment and compile the extension\n",
      "  warnings.warn(_SLOW_CRC32C_WARNING, RuntimeWarning)\n"
     ]
    },
    {
     "name": "stdout",
     "output_type": "stream",
     "text": [
      "Stored cache for URL: https://www.valdemarsro.dk/lasagne/ in blob: https%3A%2F%2Fwww.valdemarsro.dk%2Flasagne%2F/1739738974\n"
     ]
    }
   ],
   "source": [
    "store_cache(url=\"https://www.valdemarsro.dk/lasagne/\", json_output={\"key\": \"value\"})"
   ]
  },
  {
   "cell_type": "code",
   "execution_count": 6,
   "metadata": {},
   "outputs": [
    {
     "name": "stdout",
     "output_type": "stream",
     "text": [
      "Cache hit for URL: https://www.valdemarsro.dk/lasagne/ using blob https%3A%2F%2Fwww.valdemarsro.dk%2Flasagne%2F/1739738974 (age: 0 days)\n"
     ]
    },
    {
     "data": {
      "text/plain": [
       "{'input': 'https://www.valdemarsro.dk/lasagne/',\n",
       " 'output': {'key': 'value'},\n",
       " 'timestamp': '2025-02-16T20:49:34.589989+00:00'}"
      ]
     },
     "execution_count": 6,
     "metadata": {},
     "output_type": "execute_result"
    }
   ],
   "source": [
    "get_cache(url=\"https://www.valdemarsro.dk/lasagne/\")"
   ]
  },
  {
   "cell_type": "code",
   "execution_count": null,
   "metadata": {},
   "outputs": [],
   "source": []
  }
 ],
 "metadata": {
  "kernelspec": {
   "display_name": ".venv",
   "language": "python",
   "name": "python3"
  },
  "language_info": {
   "codemirror_mode": {
    "name": "ipython",
    "version": 3
   },
   "file_extension": ".py",
   "mimetype": "text/x-python",
   "name": "python",
   "nbconvert_exporter": "python",
   "pygments_lexer": "ipython3",
   "version": "3.13.1"
  }
 },
 "nbformat": 4,
 "nbformat_minor": 2
}
